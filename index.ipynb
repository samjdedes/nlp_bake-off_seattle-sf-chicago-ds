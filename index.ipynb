{
 "cells": [
  {
   "cell_type": "code",
   "execution_count": 1,
   "metadata": {},
   "outputs": [],
   "source": [
    "import pickle\n",
    "import pandas as pd\n",
    "import numpy as np"
   ]
  },
  {
   "cell_type": "code",
   "execution_count": 4,
   "metadata": {},
   "outputs": [],
   "source": [
    "# import necessary libraries \n",
    "from nltk.corpus import stopwords\n",
    "from sklearn.ensemble import RandomForestClassifier, GradientBoostingClassifier\n",
    "from sklearn.naive_bayes import MultinomialNB\n",
    "from sklearn.feature_extraction.text import TfidfVectorizer\n",
    "import helpers"
   ]
  },
  {
   "cell_type": "code",
   "execution_count": 5,
   "metadata": {},
   "outputs": [],
   "source": [
    "# import data\n",
    "X_train = pd.DataFrame(pd.read_pickle('X_train.pkl'))\n",
    "y_train = pd.DataFrame(pd.read_pickle('y_train.pkl'))\n",
    "X_test = pd.DataFrame(pd.read_pickle('X_test.pkl'))"
   ]
  },
  {
   "cell_type": "code",
   "execution_count": 6,
   "metadata": {},
   "outputs": [
    {
     "data": {
      "text/html": [
       "<div>\n",
       "<style scoped>\n",
       "    .dataframe tbody tr th:only-of-type {\n",
       "        vertical-align: middle;\n",
       "    }\n",
       "\n",
       "    .dataframe tbody tr th {\n",
       "        vertical-align: top;\n",
       "    }\n",
       "\n",
       "    .dataframe thead th {\n",
       "        text-align: right;\n",
       "    }\n",
       "</style>\n",
       "<table border=\"1\" class=\"dataframe\">\n",
       "  <thead>\n",
       "    <tr style=\"text-align: right;\">\n",
       "      <th></th>\n",
       "      <th>0</th>\n",
       "    </tr>\n",
       "  </thead>\n",
       "  <tbody>\n",
       "    <tr>\n",
       "      <th>35</th>\n",
       "      <td>Chief Justice Roberts, President Carter, Pres...</td>\n",
       "    </tr>\n",
       "    <tr>\n",
       "      <th>13</th>\n",
       "      <td>Fellow-Citizens:     We have assembled to rep...</td>\n",
       "    </tr>\n",
       "    <tr>\n",
       "      <th>26</th>\n",
       "      <td>My friends, before I begin the expression of ...</td>\n",
       "    </tr>\n",
       "    <tr>\n",
       "      <th>30</th>\n",
       "      <td>Senator Hatfield, Mr. Chief Justice, Mr. Pres...</td>\n",
       "    </tr>\n",
       "    <tr>\n",
       "      <th>16</th>\n",
       "      <td>My Fellow-Citizens:     When we assembled her...</td>\n",
       "    </tr>\n",
       "  </tbody>\n",
       "</table>\n",
       "</div>"
      ],
      "text/plain": [
       "                                                    0\n",
       "35   Chief Justice Roberts, President Carter, Pres...\n",
       "13   Fellow-Citizens:     We have assembled to rep...\n",
       "26   My friends, before I begin the expression of ...\n",
       "30   Senator Hatfield, Mr. Chief Justice, Mr. Pres...\n",
       "16   My Fellow-Citizens:     When we assembled her..."
      ]
     },
     "execution_count": 6,
     "metadata": {},
     "output_type": "execute_result"
    }
   ],
   "source": [
    "X_train.head()"
   ]
  },
  {
   "cell_type": "code",
   "execution_count": 7,
   "metadata": {},
   "outputs": [
    {
     "data": {
      "text/html": [
       "<div>\n",
       "<style scoped>\n",
       "    .dataframe tbody tr th:only-of-type {\n",
       "        vertical-align: middle;\n",
       "    }\n",
       "\n",
       "    .dataframe tbody tr th {\n",
       "        vertical-align: top;\n",
       "    }\n",
       "\n",
       "    .dataframe thead th {\n",
       "        text-align: right;\n",
       "    }\n",
       "</style>\n",
       "<table border=\"1\" class=\"dataframe\">\n",
       "  <thead>\n",
       "    <tr style=\"text-align: right;\">\n",
       "      <th></th>\n",
       "      <th>1</th>\n",
       "    </tr>\n",
       "  </thead>\n",
       "  <tbody>\n",
       "    <tr>\n",
       "      <th>35</th>\n",
       "      <td>R</td>\n",
       "    </tr>\n",
       "    <tr>\n",
       "      <th>13</th>\n",
       "      <td>R</td>\n",
       "    </tr>\n",
       "    <tr>\n",
       "      <th>26</th>\n",
       "      <td>R</td>\n",
       "    </tr>\n",
       "    <tr>\n",
       "      <th>30</th>\n",
       "      <td>R</td>\n",
       "    </tr>\n",
       "    <tr>\n",
       "      <th>16</th>\n",
       "      <td>R</td>\n",
       "    </tr>\n",
       "  </tbody>\n",
       "</table>\n",
       "</div>"
      ],
      "text/plain": [
       "    1\n",
       "35  R\n",
       "13  R\n",
       "26  R\n",
       "30  R\n",
       "16  R"
      ]
     },
     "execution_count": 7,
     "metadata": {},
     "output_type": "execute_result"
    }
   ],
   "source": [
    "y_train.head()"
   ]
  },
  {
   "cell_type": "code",
   "execution_count": 8,
   "metadata": {},
   "outputs": [
    {
     "data": {
      "text/plain": [
       "(36, 1)"
      ]
     },
     "execution_count": 8,
     "metadata": {},
     "output_type": "execute_result"
    }
   ],
   "source": [
    "X_train.shape"
   ]
  },
  {
   "cell_type": "code",
   "execution_count": 9,
   "metadata": {},
   "outputs": [
    {
     "data": {
      "text/plain": [
       "R     15\n",
       "D     14\n",
       "DR     4\n",
       "F      2\n",
       "W      1\n",
       "Name: 1, dtype: int64"
      ]
     },
     "execution_count": 9,
     "metadata": {},
     "output_type": "execute_result"
    }
   ],
   "source": [
    "y_train[1].value_counts()"
   ]
  },
  {
   "cell_type": "code",
   "execution_count": 10,
   "metadata": {},
   "outputs": [
    {
     "data": {
      "text/plain": [
       "pandas.core.frame.DataFrame"
      ]
     },
     "execution_count": 10,
     "metadata": {},
     "output_type": "execute_result"
    }
   ],
   "source": [
    "type(y_train)"
   ]
  },
  {
   "cell_type": "code",
   "execution_count": 11,
   "metadata": {},
   "outputs": [
    {
     "data": {
      "text/plain": [
       "' Senator Dirksen, Mr. Chief Justice, Mr. Vice President, President Johnson, Vice President Humphrey, my fellow Americans--and my fellow citizens of the world community:     I ask you to share with me today the majesty of this moment. In the orderly transfer of power, we celebrate the unity that keeps us free.     Each moment in history is a fleeting time, precious and unique. But some stand out as moments of beginning, in which courses are set that shape decades or centuries.     This can be such a moment.     Forces now are converging that make possible, for the first time, the hope that many of man\\'s deepest aspirations can at last be realized. The spiraling pace of change allows us to contemplate, within our own lifetime, advances that once would have taken centuries.     In throwing wide the horizons of space, we have discovered new horizons on earth.     For the first time, because the people of the world want peace, and the leaders of the world are afraid of war, the times are on the side of peace.     Eight years from now America will celebrate its 200th anniversary as a nation. Within the lifetime of most people now living, mankind will celebrate that great new year which comes only once in a thousand years--the beginning of the third millennium.     What kind of nation we will be, what kind of world we will live in, whether we shape the future in the image of our hopes, is ours to determine by our actions and our choices.     The greatest honor history can bestow is the title of peacemaker. This honor now beckons America--the chance to help lead the world at last out of the valley of turmoil, and onto that high ground of peace that man has dreamed of since the dawn of civilization.     If we succeed, generations to come will say of us now living that we mastered our moment, that we helped make the world safe for mankind.     This is our summons to greatness.     I believe the American people are ready to answer this call.     The second third of this century has been a time of proud achievement. We have made enormous strides in science and industry and agriculture. We have shared our wealth more broadly than ever. We have learned at last to manage a modern economy to assure its continued growth.     We have given freedom new reach, and we have begun to make its promise real for black as well as for white.     We see the hope of tomorrow in the youth of today. I know America\\'s youth. I believe in them. We can be proud that they are better educated, more committed, more passionately driven by conscience than any generation in our history.     No people has ever been so close to the achievement of a just and abundant society, or so possessed of the will to achieve it. Because our strengths are so great, we can afford to appraise our weaknesses with candor and to approach them with hope.     Standing in this same place a third of a century ago, Franklin Delano Roosevelt addressed a Nation ravaged by depression and gripped in fear. He could say in surveying the Nation\\'s troubles: \"They concern, thank God, only material things.\"     Our crisis today is the reverse.     We have found ourselves rich in goods, but ragged in spirit; reaching with magnificent precision for the moon, but falling into raucous discord on earth.     We are caught in war, wanting peace. We are torn by division, wanting unity. We see around us empty lives, wanting fulfillment. We see tasks that need doing, waiting for hands to do them.     To a crisis of the spirit, we need an answer of the spirit.     To find that answer, we need only look within ourselves.     When we listen to \"the better angels of our nature,\" we find that they celebrate the simple things, the basic things--such as goodness, decency, love, kindness.     Greatness comes in simple trappings.     The simple things are the ones most needed today if we are to surmount what divides us, and cement what unites us.     To lower our voices would be a simple thing.     In these difficult years, America has suffered from a fever of words; from inflated rhetoric that promises more than it can deliver; from angry rhetoric that fans discontents into hatreds; from bombastic rhetoric that postures instead of persuading.     We cannot learn from one another until we stop shouting at one another--until we speak quietly enough so that our words can be heard as well as our voices.     For its part, government will listen. We will strive to listen in new ways--to the voices of quiet anguish, the voices that speak without words, the voices of the heart--to the injured voices, the anxious voices, the voices that have despaired of being heard.     Those who have been left out, we will try to bring in.     Those left behind, we will help to catch up.     For all of our people, we will set as our goal the decent order that makes progress possible and our lives secure.     As we reach toward our hopes, our task is to build on what has gone before--not turning away from the old, but turning toward the new.     In this past third of a century, government has passed more laws, spent more money, initiated more programs, than in all our previous history.     In pursuing our goals of full employment, better housing, excellence in education; in rebuilding our cities and improving our rural areas; in protecting our environment and enhancing the quality of life--in all these and more, we will and must press urgently forward.     We shall plan now for the day when our wealth can be transferred from the destruction of war abroad to the urgent needs of our people at home.     The American dream does not come to those who fall asleep.     But we are approaching the limits of what government alone can do.     Our greatest need now is to reach beyond government, and to enlist the legions of the concerned and the committed.     What has to be done, has to be done by government and people together or it will not be done at all. The lesson of past agony is that without the people we can do nothing; with the people we can do everything.     To match the magnitude of our tasks, we need the energies of our people--enlisted not only in grand enterprises, but more importantly in those small, splendid efforts that make headlines in the neighborhood newspaper instead of the national journal.     With these, we can build a great cathedral of the spirit--each of us raising it one stone at a time, as he reaches out to his neighbor, helping, caring, doing.     I do not offer a life of uninspiring ease. I do not call for a life of grim sacrifice. I ask you to join in a high adventure--one as rich as humanity itself, and as exciting as the times we live in.     The essence of freedom is that each of us shares in the shaping of his own destiny.     Until he has been part of a cause larger than himself, no man is truly whole.     The way to fulfillment is in the use of our talents; we achieve nobility in the spirit that inspires that use.     As we measure what can be done, we shall promise only what we know we can produce, but as we chart our goals we shall be lifted by our dreams.     No man can be fully free while his neighbor is not. To go forward at all is to go forward together.     This means black and white together, as one nation, not two. The laws have caught up with our conscience. What remains is to give life to what is in the law: to ensure at last that as all are born equal in dignity before God, all are born equal in dignity before man.     As we learn to go forward together at home, let us also seek to go forward together with all mankind.     Let us take as our goal: where peace is unknown, make it welcome; where peace is fragile, make it strong; where peace is temporary, make it permanent.     After a period of confrontation, we are entering an era of negotiation.     Let all nations know that during this administration our lines of communication will be open.     We seek an open world--open to ideas, open to the exchange of goods and people--a world in which no people, great or small, will live in angry isolation.     We cannot expect to make everyone our friend, but we can try to make no one our enemy.     Those who would be our adversaries, we invite to a peaceful competition--not in conquering territory or extending dominion, but in enriching the life of man.     As we explore the reaches of space, let us go to the new worlds together--not as new worlds to be conquered, but as a new adventure to be shared.     With those who are willing to join, let us cooperate to reduce the burden of arms, to strengthen the structure of peace, to lift up the poor and the hungry.     But to all those who would be tempted by weakness, let us leave no doubt that we will be as strong as we need to be for as long as we need to be.     Over the past twenty years, since I first came to this Capital as a freshman Congressman, I have visited most of the nations of the world.     I have come to know the leaders of the world, and the great forces, the hatreds, the fears that divide the world.     I know that peace does not come through wishing for it--that there is no substitute for days and even years of patient and prolonged diplomacy.     I also know the people of the world.     I have seen the hunger of a homeless child, the pain of a man wounded in battle, the grief of a mother who has lost her son. I know these have no ideology, no race.     I know America. I know the heart of America is good.     I speak from my own heart, and the heart of my country, the deep concern we have for those who suffer, and those who sorrow.     I have taken an oath today in the presence of God and my countrymen to uphold and defend the  Constitution of the United States . To that oath I now add this sacred commitment: I shall consecrate my office, my energies, and all the wisdom I can summon, to the cause of peace among nations.     Let this message be heard by strong and weak alike:     The peace we seek to win is not victory over any other people, but the peace that comes \"with healing in its wings\"; with compassion for those who have suffered; with understanding for those who have opposed us; with the opportunity for all the peoples of this earth to choose their own destiny.     Only a few short weeks ago, we shared the glory of man\\'s first sight of the world as God sees it, as a single sphere reflecting light in the darkness.     As the Apollo astronauts flew over the moon\\'s gray surface on Christmas Eve, they spoke to us of the beauty of earth--and in that voice so clear across the lunar distance, we heard them invoke God\\'s blessing on its goodness.     In that moment, their view from the moon moved poet Archibald MacLeish to write:     \"To see the earth as it truly is, small and blue and beautiful in that eternal silence where it floats, is to see ourselves as riders on the earth together, brothers on that bright loveliness in the eternal cold--brothers who know now they are truly brothers.\"     In that moment of surpassing technological triumph, men turned their thoughts toward home and humanity--seeing in that far perspective that man\\'s destiny on earth is not divisible; telling us that however far we reach into the cosmos, our destiny lies not in the stars but on Earth itself, in our own hands, in our own hearts.     We have endured a long night of the American spirit. But as our eyes catch the dimness of the first rays of dawn, let us not curse the remaining dark. Let us gather the light.     Our destiny offers, not the cup of despair, but the chalice of opportunity. So let us seize it, not in fear, but in gladness-- and, \"riders on the earth together,\" let us go forward, firm in our faith, steadfast in our purpose, cautious of the dangers; but sustained by our confidence in the will of God and the promise of man.   '"
      ]
     },
     "execution_count": 11,
     "metadata": {},
     "output_type": "execute_result"
    }
   ],
   "source": [
    "speech1 = X_train[0].iloc[35]\n",
    "speech1"
   ]
  },
  {
   "cell_type": "code",
   "execution_count": 12,
   "metadata": {},
   "outputs": [
    {
     "data": {
      "text/html": [
       "<div>\n",
       "<style scoped>\n",
       "    .dataframe tbody tr th:only-of-type {\n",
       "        vertical-align: middle;\n",
       "    }\n",
       "\n",
       "    .dataframe tbody tr th {\n",
       "        vertical-align: top;\n",
       "    }\n",
       "\n",
       "    .dataframe thead th {\n",
       "        text-align: right;\n",
       "    }\n",
       "</style>\n",
       "<table border=\"1\" class=\"dataframe\">\n",
       "  <thead>\n",
       "    <tr style=\"text-align: right;\">\n",
       "      <th></th>\n",
       "      <th>0</th>\n",
       "      <th>1</th>\n",
       "    </tr>\n",
       "  </thead>\n",
       "  <tbody>\n",
       "    <tr>\n",
       "      <th>35</th>\n",
       "      <td>Chief Justice Roberts, President Carter, Pres...</td>\n",
       "      <td>R</td>\n",
       "    </tr>\n",
       "    <tr>\n",
       "      <th>13</th>\n",
       "      <td>Fellow-Citizens:     We have assembled to rep...</td>\n",
       "      <td>R</td>\n",
       "    </tr>\n",
       "    <tr>\n",
       "      <th>26</th>\n",
       "      <td>My friends, before I begin the expression of ...</td>\n",
       "      <td>R</td>\n",
       "    </tr>\n",
       "    <tr>\n",
       "      <th>30</th>\n",
       "      <td>Senator Hatfield, Mr. Chief Justice, Mr. Pres...</td>\n",
       "      <td>R</td>\n",
       "    </tr>\n",
       "    <tr>\n",
       "      <th>16</th>\n",
       "      <td>My Fellow-Citizens:     When we assembled her...</td>\n",
       "      <td>R</td>\n",
       "    </tr>\n",
       "  </tbody>\n",
       "</table>\n",
       "</div>"
      ],
      "text/plain": [
       "                                                    0  1\n",
       "35   Chief Justice Roberts, President Carter, Pres...  R\n",
       "13   Fellow-Citizens:     We have assembled to rep...  R\n",
       "26   My friends, before I begin the expression of ...  R\n",
       "30   Senator Hatfield, Mr. Chief Justice, Mr. Pres...  R\n",
       "16   My Fellow-Citizens:     When we assembled her...  R"
      ]
     },
     "execution_count": 12,
     "metadata": {},
     "output_type": "execute_result"
    }
   ],
   "source": [
    "df = X_train.join(y_train)\n",
    "df.head()"
   ]
  },
  {
   "cell_type": "code",
   "execution_count": 14,
   "metadata": {},
   "outputs": [
    {
     "name": "stdout",
     "output_type": "stream",
     "text": [
      "<class 'pandas.core.frame.DataFrame'>\n",
      "Int64Index: 36 entries, 35 to 28\n",
      "Data columns (total 1 columns):\n",
      " #   Column  Non-Null Count  Dtype \n",
      "---  ------  --------------  ----- \n",
      " 0   0       36 non-null     object\n",
      "dtypes: object(1)\n",
      "memory usage: 1.8+ KB\n"
     ]
    }
   ],
   "source": [
    "X_train.info()"
   ]
  },
  {
   "cell_type": "code",
   "execution_count": 15,
   "metadata": {},
   "outputs": [
    {
     "data": {
      "text/plain": [
       "Int64Index([0], dtype='int64')"
      ]
     },
     "execution_count": 15,
     "metadata": {},
     "output_type": "execute_result"
    }
   ],
   "source": [
    "X_train.columns"
   ]
  },
  {
   "cell_type": "code",
   "execution_count": 16,
   "metadata": {},
   "outputs": [
    {
     "data": {
      "text/html": [
       "<div>\n",
       "<style scoped>\n",
       "    .dataframe tbody tr th:only-of-type {\n",
       "        vertical-align: middle;\n",
       "    }\n",
       "\n",
       "    .dataframe tbody tr th {\n",
       "        vertical-align: top;\n",
       "    }\n",
       "\n",
       "    .dataframe thead th {\n",
       "        text-align: right;\n",
       "    }\n",
       "</style>\n",
       "<table border=\"1\" class=\"dataframe\">\n",
       "  <thead>\n",
       "    <tr style=\"text-align: right;\">\n",
       "      <th></th>\n",
       "      <th>0</th>\n",
       "    </tr>\n",
       "  </thead>\n",
       "  <tbody>\n",
       "    <tr>\n",
       "      <th>35</th>\n",
       "      <td>Chief Justice Roberts, President Carter, Pres...</td>\n",
       "    </tr>\n",
       "    <tr>\n",
       "      <th>13</th>\n",
       "      <td>Fellow-Citizens:     We have assembled to rep...</td>\n",
       "    </tr>\n",
       "    <tr>\n",
       "      <th>26</th>\n",
       "      <td>My friends, before I begin the expression of ...</td>\n",
       "    </tr>\n",
       "    <tr>\n",
       "      <th>30</th>\n",
       "      <td>Senator Hatfield, Mr. Chief Justice, Mr. Pres...</td>\n",
       "    </tr>\n",
       "    <tr>\n",
       "      <th>16</th>\n",
       "      <td>My Fellow-Citizens:     When we assembled her...</td>\n",
       "    </tr>\n",
       "  </tbody>\n",
       "</table>\n",
       "</div>"
      ],
      "text/plain": [
       "                                                    0\n",
       "35   Chief Justice Roberts, President Carter, Pres...\n",
       "13   Fellow-Citizens:     We have assembled to rep...\n",
       "26   My friends, before I begin the expression of ...\n",
       "30   Senator Hatfield, Mr. Chief Justice, Mr. Pres...\n",
       "16   My Fellow-Citizens:     When we assembled her..."
      ]
     },
     "execution_count": 16,
     "metadata": {},
     "output_type": "execute_result"
    }
   ],
   "source": [
    "X_train.head()"
   ]
  },
  {
   "cell_type": "code",
   "execution_count": 17,
   "metadata": {},
   "outputs": [
    {
     "data": {
      "text/html": [
       "<div>\n",
       "<style scoped>\n",
       "    .dataframe tbody tr th:only-of-type {\n",
       "        vertical-align: middle;\n",
       "    }\n",
       "\n",
       "    .dataframe tbody tr th {\n",
       "        vertical-align: top;\n",
       "    }\n",
       "\n",
       "    .dataframe thead th {\n",
       "        text-align: right;\n",
       "    }\n",
       "</style>\n",
       "<table border=\"1\" class=\"dataframe\">\n",
       "  <thead>\n",
       "    <tr style=\"text-align: right;\">\n",
       "      <th></th>\n",
       "      <th>abandon</th>\n",
       "      <th>abandoned</th>\n",
       "      <th>abandonment</th>\n",
       "      <th>abate</th>\n",
       "      <th>abdicated</th>\n",
       "      <th>abhorring</th>\n",
       "      <th>abide</th>\n",
       "      <th>abiding</th>\n",
       "      <th>abilities</th>\n",
       "      <th>ability</th>\n",
       "      <th>...</th>\n",
       "      <th>yorktown</th>\n",
       "      <th>young</th>\n",
       "      <th>younger</th>\n",
       "      <th>youngest</th>\n",
       "      <th>youth</th>\n",
       "      <th>youthful</th>\n",
       "      <th>zeal</th>\n",
       "      <th>zealous</th>\n",
       "      <th>zealously</th>\n",
       "      <th>zone</th>\n",
       "    </tr>\n",
       "  </thead>\n",
       "  <tbody>\n",
       "    <tr>\n",
       "      <th>0</th>\n",
       "      <td>0.0</td>\n",
       "      <td>0.000000</td>\n",
       "      <td>0.0</td>\n",
       "      <td>0.000000</td>\n",
       "      <td>0.0</td>\n",
       "      <td>0.000000</td>\n",
       "      <td>0.0</td>\n",
       "      <td>0.000000</td>\n",
       "      <td>0.0</td>\n",
       "      <td>0.000000</td>\n",
       "      <td>...</td>\n",
       "      <td>0.0</td>\n",
       "      <td>0.026797</td>\n",
       "      <td>0.0</td>\n",
       "      <td>0.0</td>\n",
       "      <td>0.0</td>\n",
       "      <td>0.0</td>\n",
       "      <td>0.0</td>\n",
       "      <td>0.000000</td>\n",
       "      <td>0.0</td>\n",
       "      <td>0.0</td>\n",
       "    </tr>\n",
       "    <tr>\n",
       "      <th>1</th>\n",
       "      <td>0.0</td>\n",
       "      <td>0.000000</td>\n",
       "      <td>0.0</td>\n",
       "      <td>0.000000</td>\n",
       "      <td>0.0</td>\n",
       "      <td>0.000000</td>\n",
       "      <td>0.0</td>\n",
       "      <td>0.000000</td>\n",
       "      <td>0.0</td>\n",
       "      <td>0.000000</td>\n",
       "      <td>...</td>\n",
       "      <td>0.0</td>\n",
       "      <td>0.000000</td>\n",
       "      <td>0.0</td>\n",
       "      <td>0.0</td>\n",
       "      <td>0.0</td>\n",
       "      <td>0.0</td>\n",
       "      <td>0.0</td>\n",
       "      <td>0.030272</td>\n",
       "      <td>0.0</td>\n",
       "      <td>0.0</td>\n",
       "    </tr>\n",
       "    <tr>\n",
       "      <th>2</th>\n",
       "      <td>0.0</td>\n",
       "      <td>0.000000</td>\n",
       "      <td>0.0</td>\n",
       "      <td>0.000000</td>\n",
       "      <td>0.0</td>\n",
       "      <td>0.033425</td>\n",
       "      <td>0.0</td>\n",
       "      <td>0.019694</td>\n",
       "      <td>0.0</td>\n",
       "      <td>0.000000</td>\n",
       "      <td>...</td>\n",
       "      <td>0.0</td>\n",
       "      <td>0.000000</td>\n",
       "      <td>0.0</td>\n",
       "      <td>0.0</td>\n",
       "      <td>0.0</td>\n",
       "      <td>0.0</td>\n",
       "      <td>0.0</td>\n",
       "      <td>0.000000</td>\n",
       "      <td>0.0</td>\n",
       "      <td>0.0</td>\n",
       "    </tr>\n",
       "    <tr>\n",
       "      <th>3</th>\n",
       "      <td>0.0</td>\n",
       "      <td>0.000000</td>\n",
       "      <td>0.0</td>\n",
       "      <td>0.000000</td>\n",
       "      <td>0.0</td>\n",
       "      <td>0.000000</td>\n",
       "      <td>0.0</td>\n",
       "      <td>0.000000</td>\n",
       "      <td>0.0</td>\n",
       "      <td>0.000000</td>\n",
       "      <td>...</td>\n",
       "      <td>0.0</td>\n",
       "      <td>0.042176</td>\n",
       "      <td>0.0</td>\n",
       "      <td>0.0</td>\n",
       "      <td>0.0</td>\n",
       "      <td>0.0</td>\n",
       "      <td>0.0</td>\n",
       "      <td>0.000000</td>\n",
       "      <td>0.0</td>\n",
       "      <td>0.0</td>\n",
       "    </tr>\n",
       "    <tr>\n",
       "      <th>4</th>\n",
       "      <td>0.0</td>\n",
       "      <td>0.026884</td>\n",
       "      <td>0.0</td>\n",
       "      <td>0.037361</td>\n",
       "      <td>0.0</td>\n",
       "      <td>0.000000</td>\n",
       "      <td>0.0</td>\n",
       "      <td>0.022013</td>\n",
       "      <td>0.0</td>\n",
       "      <td>0.019511</td>\n",
       "      <td>...</td>\n",
       "      <td>0.0</td>\n",
       "      <td>0.000000</td>\n",
       "      <td>0.0</td>\n",
       "      <td>0.0</td>\n",
       "      <td>0.0</td>\n",
       "      <td>0.0</td>\n",
       "      <td>0.0</td>\n",
       "      <td>0.000000</td>\n",
       "      <td>0.0</td>\n",
       "      <td>0.0</td>\n",
       "    </tr>\n",
       "  </tbody>\n",
       "</table>\n",
       "<p>5 rows × 7789 columns</p>\n",
       "</div>"
      ],
      "text/plain": [
       "   abandon  abandoned  abandonment     abate  abdicated  abhorring  abide  \\\n",
       "0      0.0   0.000000          0.0  0.000000        0.0   0.000000    0.0   \n",
       "1      0.0   0.000000          0.0  0.000000        0.0   0.000000    0.0   \n",
       "2      0.0   0.000000          0.0  0.000000        0.0   0.033425    0.0   \n",
       "3      0.0   0.000000          0.0  0.000000        0.0   0.000000    0.0   \n",
       "4      0.0   0.026884          0.0  0.037361        0.0   0.000000    0.0   \n",
       "\n",
       "    abiding  abilities   ability  ...  yorktown     young  younger  youngest  \\\n",
       "0  0.000000        0.0  0.000000  ...       0.0  0.026797      0.0       0.0   \n",
       "1  0.000000        0.0  0.000000  ...       0.0  0.000000      0.0       0.0   \n",
       "2  0.019694        0.0  0.000000  ...       0.0  0.000000      0.0       0.0   \n",
       "3  0.000000        0.0  0.000000  ...       0.0  0.042176      0.0       0.0   \n",
       "4  0.022013        0.0  0.019511  ...       0.0  0.000000      0.0       0.0   \n",
       "\n",
       "   youth  youthful  zeal   zealous  zealously  zone  \n",
       "0    0.0       0.0   0.0  0.000000        0.0   0.0  \n",
       "1    0.0       0.0   0.0  0.030272        0.0   0.0  \n",
       "2    0.0       0.0   0.0  0.000000        0.0   0.0  \n",
       "3    0.0       0.0   0.0  0.000000        0.0   0.0  \n",
       "4    0.0       0.0   0.0  0.000000        0.0   0.0  \n",
       "\n",
       "[5 rows x 7789 columns]"
      ]
     },
     "execution_count": 17,
     "metadata": {},
     "output_type": "execute_result"
    }
   ],
   "source": [
    "from sklearn.feature_extraction.text import TfidfVectorizer\n",
    "from nltk.corpus import stopwords\n",
    "\n",
    "# Break into words/ remove stopwords\n",
    "tfidf = TfidfVectorizer(token_pattern=r\"([a-zA-Z]+(?:'[a-z]+)?)\", stop_words=stopwords.words('english'))\n",
    "\n",
    "X_train_vec = tfidf.fit_transform(X_train[0]) # y=y_train ?\n",
    "\n",
    "X_test_vec = tfidf.transform(X_test[0])\n",
    "\n",
    "X_train_vec = pd.DataFrame(X_train_vec.toarray(), columns=tfidf.get_feature_names())\n",
    "X_train_vec.head()"
   ]
  },
  {
   "cell_type": "code",
   "execution_count": 18,
   "metadata": {},
   "outputs": [
    {
     "data": {
      "text/plain": [
       "0     17.900523\n",
       "1     22.796441\n",
       "2     24.003194\n",
       "3     23.419937\n",
       "4     23.054758\n",
       "5     21.505610\n",
       "6     24.473929\n",
       "7     18.619610\n",
       "8     31.280287\n",
       "9     15.761642\n",
       "10    25.479738\n",
       "11    25.304741\n",
       "12     6.996305\n",
       "13    25.178140\n",
       "14    17.928739\n",
       "15    20.923678\n",
       "16    20.789033\n",
       "17    25.374656\n",
       "18    23.937296\n",
       "19    23.166283\n",
       "20    12.369011\n",
       "21    22.239285\n",
       "22    20.120361\n",
       "23    19.212513\n",
       "24    18.473365\n",
       "25    21.341209\n",
       "26    17.658210\n",
       "27    26.008446\n",
       "28    21.933566\n",
       "29    27.104264\n",
       "30    20.342647\n",
       "31    17.628385\n",
       "32    31.233517\n",
       "33    29.540063\n",
       "34    25.018982\n",
       "35    20.954626\n",
       "dtype: float64"
      ]
     },
     "execution_count": 18,
     "metadata": {},
     "output_type": "execute_result"
    }
   ],
   "source": [
    "X_train_vec.sum(axis=1)"
   ]
  },
  {
   "cell_type": "code",
   "execution_count": null,
   "metadata": {},
   "outputs": [],
   "source": []
  },
  {
   "cell_type": "code",
   "execution_count": 85,
   "metadata": {},
   "outputs": [],
   "source": [
    "nb_classifer = MultinomialNB()\n",
    "rf_classifier = RandomForestClassifier(n_estimators=10, random_state=666)"
   ]
  },
  {
   "cell_type": "code",
   "execution_count": null,
   "metadata": {},
   "outputs": [],
   "source": []
  },
  {
   "cell_type": "code",
   "execution_count": 72,
   "metadata": {},
   "outputs": [],
   "source": [
    "# create a function that takes in a classifier, trains it on our tf-idf vectors,\n",
    "# and generates train and test predictiions\n",
    "def classify_text(classifier, X_train, X_test, y_train):\n",
    "    \n",
    "    # a) fit the classifier with our training data\n",
    "    classifier.fit(X_train, y_train)\n",
    "    \n",
    "    # b) predict the labels of our train data and store them in train_preds\n",
    "    train_preds = classifier.predict(X_train)\n",
    "    \n",
    "    # c) predict the labels of our test data and store them in test_preds\n",
    "    test_preds = classifier.predict(X_test)\n",
    "    \n",
    "    # d) return train_preds and test_preds\n",
    "    return train_preds, test_preds"
   ]
  },
  {
   "cell_type": "code",
   "execution_count": 73,
   "metadata": {},
   "outputs": [
    {
     "name": "stderr",
     "output_type": "stream",
     "text": [
      "C:\\Users\\samjd\\anaconda3\\envs\\oy-env\\lib\\site-packages\\sklearn\\utils\\validation.py:72: DataConversionWarning: A column-vector y was passed when a 1d array was expected. Please change the shape of y to (n_samples, ), for example using ravel().\n",
      "  return f(**kwargs)\n"
     ]
    }
   ],
   "source": [
    "nb_train_preds, nb_test_preds = classify_text(nb_classifer, X_train_vec, X_test_vec, y_train)"
   ]
  },
  {
   "cell_type": "code",
   "execution_count": 74,
   "metadata": {},
   "outputs": [
    {
     "data": {
      "text/plain": [
       "array(['R', 'R', 'R', 'R', 'R', 'R', 'R', 'R', 'R', 'R', 'D', 'D', 'R',\n",
       "       'R', 'D', 'D', 'D', 'D', 'R', 'R', 'D', 'R', 'R', 'R', 'D', 'D',\n",
       "       'D', 'D', 'D', 'R', 'D', 'D', 'R', 'D', 'R', 'R'], dtype='<U2')"
      ]
     },
     "execution_count": 74,
     "metadata": {},
     "output_type": "execute_result"
    }
   ],
   "source": [
    "nb_train_preds"
   ]
  },
  {
   "cell_type": "code",
   "execution_count": 75,
   "metadata": {},
   "outputs": [
    {
     "data": {
      "text/plain": [
       "array(['R', 'R', 'R', 'R', 'R', 'R', 'R', 'R', 'R', 'R', 'R', 'R', 'R',\n",
       "       'R', 'R', 'R', 'R', 'R', 'R', 'R', 'R', 'R'], dtype='<U2')"
      ]
     },
     "execution_count": 75,
     "metadata": {},
     "output_type": "execute_result"
    }
   ],
   "source": [
    "nb_test_preds"
   ]
  },
  {
   "cell_type": "code",
   "execution_count": 86,
   "metadata": {},
   "outputs": [
    {
     "name": "stderr",
     "output_type": "stream",
     "text": [
      "<ipython-input-72-9a22ca2a737b>:6: DataConversionWarning: A column-vector y was passed when a 1d array was expected. Please change the shape of y to (n_samples,), for example using ravel().\n",
      "  classifier.fit(X_train, y_train)\n"
     ]
    }
   ],
   "source": [
    "rf_train_preds, rf_test_preds = classify_text(rf_classifier, X_train_vec, X_test_vec, y_train)"
   ]
  },
  {
   "cell_type": "code",
   "execution_count": 77,
   "metadata": {},
   "outputs": [
    {
     "data": {
      "text/plain": [
       "array(['R', 'R', 'R', 'R', 'R', 'R', 'R', 'R', 'W', 'R', 'D', 'R', 'F',\n",
       "       'DR', 'D', 'D', 'D', 'DR', 'D', 'F', 'D', 'DR', 'R', 'D', 'D', 'D',\n",
       "       'D', 'D', 'D', 'R', 'D', 'D', 'R', 'D', 'R', 'R'], dtype=object)"
      ]
     },
     "execution_count": 77,
     "metadata": {},
     "output_type": "execute_result"
    }
   ],
   "source": [
    "rf_train_preds"
   ]
  },
  {
   "cell_type": "code",
   "execution_count": 88,
   "metadata": {},
   "outputs": [],
   "source": [
    "with open('oa_sjd_predictions.pkl', 'wb') as handle:\n",
    "    pickle.dump(rf_test_preds, handle, protocol=pickle.HIGHEST_PROTOCOL)\n",
    "\n",
    "with open('oa_sjd_predictions.pkl', 'rb') as handle:\n",
    "    b = pickle.load(handle)\n"
   ]
  },
  {
   "cell_type": "code",
   "execution_count": 83,
   "metadata": {},
   "outputs": [],
   "source": [
    "from sklearn.metrics import confusion_matrix, classification_report"
   ]
  },
  {
   "cell_type": "code",
   "execution_count": 87,
   "metadata": {},
   "outputs": [
    {
     "data": {
      "text/plain": [
       "array([[14,  0,  0,  0,  0],\n",
       "       [ 0,  4,  0,  0,  0],\n",
       "       [ 0,  0,  2,  0,  0],\n",
       "       [ 0,  0,  0, 15,  0],\n",
       "       [ 0,  0,  0,  0,  1]], dtype=int64)"
      ]
     },
     "execution_count": 87,
     "metadata": {},
     "output_type": "execute_result"
    }
   ],
   "source": [
    "confusion_matrix(y_train, rf_train_preds)"
   ]
  },
  {
   "cell_type": "code",
   "execution_count": null,
   "metadata": {},
   "outputs": [],
   "source": []
  },
  {
   "cell_type": "code",
   "execution_count": null,
   "metadata": {},
   "outputs": [],
   "source": []
  },
  {
   "cell_type": "code",
   "execution_count": null,
   "metadata": {},
   "outputs": [],
   "source": []
  },
  {
   "cell_type": "code",
   "execution_count": null,
   "metadata": {},
   "outputs": [],
   "source": []
  }
 ],
 "metadata": {
  "kernelspec": {
   "display_name": "Python 3",
   "language": "python",
   "name": "python3"
  },
  "language_info": {
   "codemirror_mode": {
    "name": "ipython",
    "version": 3
   },
   "file_extension": ".py",
   "mimetype": "text/x-python",
   "name": "python",
   "nbconvert_exporter": "python",
   "pygments_lexer": "ipython3",
   "version": "3.8.2"
  }
 },
 "nbformat": 4,
 "nbformat_minor": 4
}
